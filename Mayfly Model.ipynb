{
 "cells": [
  {
   "cell_type": "code",
   "execution_count": null,
   "metadata": {
    "collapsed": true
   },
   "outputs": [],
   "source": [
    "'''\n",
    "    A deterministic dynamical system is a system where the current state of the system \n",
    "is able to completely predict the future state of that system.  For example, a deterministic\n",
    "dynamical system is the growth of biological populations over time.  The population for a \n",
    "biological system can be determined by the current population size, the maximum potential \n",
    "growth rate, and the maximum population.  In this type of system, the maximum population acts \n",
    "as the constraint for future populations.  When there is a large starting population, there is \n",
    "a higher competition for resources, resulting in a low rate of growth, causing a smaller \n",
    "population for the next generation.  The opposite is also true if there is a small \n",
    "starting population.  A small population means less competition for resources, resulting \n",
    "in a large potential growth rate. causing the next generation's population to be higher.  \n",
    "Thus, the population for the next generation depends on the ratio of current population \n",
    "to maximum population.  Of course, this is system is highly simplistic, and does not take \n",
    "into account all other possible factors that can affect population rates, so predictions \n",
    "made by this system show general behaviors instead of exact results.     \n",
    "    The behavior of this system comes in two forms, transient and asymptotic.  Transient \n",
    "behavior can only show the resulting behavior between the current mayfly population and the next \n",
    "generation's mayfly population (short term behavior).  On the other hand, asymptotic behavior shows \n",
    "the behavior between populations in response to the change in maximum growth rate.  In other words, \n",
    "asymptotic behavior will show whether the current population size will settle on a specific \n",
    "number, or continue to oscillate between two or more numbers (long term behavior).       \n",
    "\n",
    "'''"
   ]
  },
  {
   "cell_type": "code",
   "execution_count": 2,
   "metadata": {
    "collapsed": false
   },
   "outputs": [
    {
     "name": "stdout",
     "output_type": "stream",
     "text": [
      "Populating the interactive namespace from numpy and matplotlib\n"
     ]
    }
   ],
   "source": [
    "%pylab inline\n",
    "from numpy import*"
   ]
  },
  {
   "cell_type": "code",
   "execution_count": 4,
   "metadata": {
    "collapsed": true
   },
   "outputs": [],
   "source": [
    "#b is the maximum growth rate\n",
    "#x is the current mayfly population in year t\n",
    "#t is the number of years that will be \n",
    "\n",
    "#Transient Behavior\n",
    "def plot_mayfly_T(x, b, t):\n",
    "    tList = []\n",
    "    xList = []\n",
    "    for i in range(t):\n",
    "        x = b*(1 - x)* x\n",
    "        tList.append(i)\n",
    "        xList.append(x)\n",
    "    plot(tList, xList, 'r-', ms = .11)    \n",
    "    xlabel('Number of Years')\n",
    "    ylabel('Mayfly Population')"
   ]
  },
  {
   "cell_type": "code",
   "execution_count": null,
   "metadata": {
    "collapsed": true
   },
   "outputs": [],
   "source": [
    "plot_mayfly_T(.5, 3.95, 25)"
   ]
  },
  {
   "cell_type": "code",
   "execution_count": null,
   "metadata": {
    "collapsed": true
   },
   "outputs": [],
   "source": [
    "#Asymptotic Behavior\n",
    "tmax = 5000\n",
    "tmin = tmax/2\n",
    "b = linspace(0,4, 4001)\n",
    "x = 0.5\n",
    "for i in xrange(tmax):\n",
    "    if i > tmin:\n",
    "        plot(b,x,'r.', ms = .005, alpha=0.5)   #alpha\n",
    "    x = b*(1 - x)*x\n",
    "xlim(2.7,4)\n",
    "xlabel('Max Growth Rate')\n",
    "ylabel('Mayfly Population')"
   ]
  },
  {
   "cell_type": "code",
   "execution_count": null,
   "metadata": {
    "collapsed": true
   },
   "outputs": [],
   "source": []
  },
  {
   "cell_type": "code",
   "execution_count": null,
   "metadata": {
    "collapsed": true
   },
   "outputs": [],
   "source": []
  }
 ],
 "metadata": {
  "anaconda-cloud": {},
  "kernelspec": {
   "display_name": "Python [conda root]",
   "language": "python",
   "name": "conda-root-py"
  },
  "language_info": {
   "codemirror_mode": {
    "name": "ipython",
    "version": 2
   },
   "file_extension": ".py",
   "mimetype": "text/x-python",
   "name": "python",
   "nbconvert_exporter": "python",
   "pygments_lexer": "ipython2",
   "version": "2.7.12"
  }
 },
 "nbformat": 4,
 "nbformat_minor": 1
}
