{
 "cells": [
  {
   "cell_type": "code",
   "execution_count": null,
   "metadata": {
    "collapsed": false
   },
   "outputs": [],
   "source": [
    "'''\n",
    "    This GPS model works by optimizing its least squares function \n",
    "to find the minimum error.  Since the least squares produces a line that \n",
    "minimizes the distance between the line and the points(minimizes error), it can \n",
    "be thought of as the objective function given by: \n",
    "GPSerror(x,y)=sqrt((x-x1)^2-(y-y1)^2).  This equation the uses the Pythagorean \n",
    "theorem to calculate the distance between a point on Earth and the satellite's \n",
    "position.  Then by subtracting the satellite's distance to point from the \n",
    "calculated distance to point, the point's coordinates can be accurately \n",
    "estimated, if enough satellites are used. Minimizing the GPS error function can \n",
    "essentially be considered an estimate for position, because the minimum of the \n",
    "total GPS error is the most likely position for some point on Earth.\n",
    "    To minimize this function a “stumble down” method is used.  The stumble down \n",
    "method involves selecting random points from a box with an interval that is \n",
    "+/- a certain value of some initial point (P).  This new point (q), is then \n",
    "plugged into the GPS error function and the results are compared to the results \n",
    "of the GPS error function after plugging in point P.  If the results for q are \n",
    "smaller than the results for P, then P is set to equal q's (x,y) coordinates, \n",
    "and the process repeats.  If the results for q are larger than the results for \n",
    "P, then a new random point is selected and the process repeats.  After a certain\n",
    "number of trials that P is not set to the new q value, the box's +/- interval \n",
    "can be shrunk.  If a certain number of trials that all result in a larger GPS \n",
    "error for by plugging in point q, then the box's interval is too large and the \n",
    "chances of randomly selecting a point that will result in a smaller GPS error \n",
    "are unlikely.  So by shrinking the box's interval around the point P, \n",
    "the function can be considered minimized after the box's interval is \n",
    "smaller than some tolerance, since the chances of landing on a point that \n",
    "results in a smaller GPS error become negligibly small once the box's \n",
    "interval is becomes negligibly small.  \n",
    "\n",
    "'''"
   ]
  },
  {
   "cell_type": "code",
   "execution_count": 27,
   "metadata": {
    "collapsed": false
   },
   "outputs": [
    {
     "name": "stdout",
     "output_type": "stream",
     "text": [
      "Populating the interactive namespace from numpy and matplotlib\n"
     ]
    }
   ],
   "source": [
    "%pylab inline"
   ]
  },
  {
   "cell_type": "code",
   "execution_count": 29,
   "metadata": {
    "collapsed": true
   },
   "outputs": [],
   "source": [
    "#GPS info\n",
    "sat_loc = array([[412.5,257.7], [580,876], [438,750], [359.2,658.8]])\n",
    "sat_pnt_d = array([251.6, 397, 270.5, 222.6])"
   ]
  },
  {
   "cell_type": "code",
   "execution_count": 30,
   "metadata": {
    "collapsed": true
   },
   "outputs": [],
   "source": [
    "#GPS error funciton\n",
    "def GPSerror(x,y):\n",
    "    GPS_err = sum((sqrt((x - sat_loc[:,0])**2 + (y - sat_loc[:,1])**2) - sat_pnt_d)**2)\n",
    "    return GPS_err"
   ]
  },
  {
   "cell_type": "code",
   "execution_count": 37,
   "metadata": {
    "collapsed": true
   },
   "outputs": [],
   "source": [
    "#to use stumble down method inputs are:\n",
    "# some_fun = function that you want to minimize\n",
    "# first_pnt = the initial point that function will start at\n",
    "# stepsize = how much it will shrink interval of guesses\n",
    "# nfails = accuracy of results (higher number of fails = more accurate)\n",
    "def stmbldwn_red(some_fun, first_pnt, stepsize, stepsize_redu, nfails):\n",
    "    p_x, p_y = first_pnt[0], first_pnt[1]\n",
    "    tol = 10e-8\n",
    "    fail_count = 0\n",
    "    num_steps = 0\n",
    "    \n",
    "        \n",
    "    successListx = []\n",
    "    successListy = []\n",
    "    \n",
    "    while True:\n",
    "        num_steps += 1\n",
    "        x_step = random.rand(1)*2.*stepsize - stepsize\n",
    "        y_step = random.rand(1)*2.*stepsize - stepsize \n",
    "        fpxy = some_fun(p_x,p_y)\n",
    "        q_x, q_y = p_x+x_step, p_y+y_step\n",
    "        fqxy = some_fun(q_x,q_y)\n",
    "        \n",
    "        if fqxy < fpxy:\n",
    "            p_x, p_y = q_x,q_y\n",
    "            f_prev = fqxy\n",
    "            successListx.append(q_x), successListy.append(q_y)\n",
    "            #print q_x, q_y\n",
    "            \n",
    "        else:\n",
    "            fail_count += 1\n",
    "            if fail_count > nfails:\n",
    "                stepsize = float(stepsize / stepsize_redu)\n",
    "                fail_count = 0\n",
    "        \n",
    "        if stepsize < tol:\n",
    "            break\n",
    "\n",
    "    Xs, Ys = meshgrid(successListx,successListy)\n",
    "    Zs = zeros(shape(Xs))\n",
    "    rows, cols = shape(Xs)\n",
    "    print rows,cols\n",
    "    for i in range(rows):\n",
    "        for j in range(cols):\n",
    "            Zs[i,j] = some_fun(Xs[i,j], Ys[i,j])\n",
    "    contour(Xs, Ys, Zs, colors='blue')\n",
    "    plot(successListx, successListy, 'black')\n",
    "    show()\n",
    "    print \"Minimum at:\",p_x, p_y\n",
    "\n"
   ]
  },
  {
   "cell_type": "code",
   "execution_count": 38,
   "metadata": {
    "collapsed": false
   },
   "outputs": [
    {
     "name": "stdout",
     "output_type": "stream",
     "text": [
      "854 854\n"
     ]
    },
    {
     "data": {
      "image/png": "[encoded data removed]",
      "text/plain": [
       "<matplotlib.figure.Figure at 0xdab4208>"
      ]
     },
     "metadata": {},
     "output_type": "display_data"
    },
    {
     "name": "stdout",
     "output_type": "stream",
     "text": [
      "Minimum at: [ 504.73478126] [ 488.82705403]\n"
     ]
    }
   ],
   "source": [
    "stmbldwn_red(GPSerror, array([10,10]), 2, 1.0001, 7)"
   ]
  },
  {
   "cell_type": "code",
   "execution_count": null,
   "metadata": {
    "collapsed": true
   },
   "outputs": [],
   "source": []
  }
 ],
 "metadata": {
  "kernelspec": {
   "display_name": "Python 2",
   "language": "python",
   "name": "python2"
  },
  "language_info": {
   "codemirror_mode": {
    "name": "ipython",
    "version": 2
   },
   "file_extension": ".py",
   "mimetype": "text/x-python",
   "name": "python",
   "nbconvert_exporter": "python",
   "pygments_lexer": "ipython2",
   "version": "2.7.10"
  }
 },
 "nbformat": 4,
 "nbformat_minor": 0
}
